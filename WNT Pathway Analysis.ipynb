{
 "cells": [
  {
   "cell_type": "markdown",
   "metadata": {},
   "source": [
    "# Test if SCLC groups are enriched for mutations in the WNT signaling pathway"
   ]
  },
  {
   "cell_type": "code",
   "execution_count": 1,
   "metadata": {
    "collapsed": true
   },
   "outputs": [],
   "source": [
    "%matplotlib inline\n",
    "import csv\n",
    "import pandas\n",
    "from matplotlib import pyplot as plt\n",
    "import seaborn as sns\n",
    "import pandas\n",
    "import numpy as np\n",
    "from scipy import stats"
   ]
  },
  {
   "cell_type": "code",
   "execution_count": 2,
   "metadata": {
    "collapsed": true
   },
   "outputs": [],
   "source": [
    "with open('wnt_list') as f:\n",
    "    wnt_list = set([x.strip().upper() for x in f])"
   ]
  },
  {
   "cell_type": "code",
   "execution_count": 3,
   "metadata": {
    "collapsed": false
   },
   "outputs": [],
   "source": [
    "with open('ensembl_74_37_gene_names.txt') as f:\n",
    "    ensembl_genes = set([x.strip().upper() for x in f])"
   ]
  },
  {
   "cell_type": "code",
   "execution_count": 4,
   "metadata": {
    "collapsed": false
   },
   "outputs": [],
   "source": [
    "# Coverage files pulled from /gscmnt/gc2547/mardiswilsonlab/kkrysiak/SCLC/music/smg_v7_merge_roi_noMT_noSCLC10_newBMRcalc/gene_covgs\n",
    "covg_dfs = []\n",
    "for i in range(1, 19):\n",
    "    if i==10:\n",
    "        continue\n",
    "    with open('gene_covgs/SCLC{0}.covg'.format(i)) as f:\n",
    "        p = pandas.read_csv(f, sep='\\t')\n",
    "        covg_dfs.append(p)"
   ]
  },
  {
   "cell_type": "code",
   "execution_count": 5,
   "metadata": {
    "collapsed": false
   },
   "outputs": [],
   "source": [
    "# SNV / Indel file pulled from /gscmnt/sata132/techd/zskidmor/projects/SCLC/misc/Dec_2015/Analysis/somatic_analysis/master_snvs_indels_somatic.anno.rcnt.filtered.tsv\n",
    "with open('snv_indels.tsv') as f:\n",
    "    variant_calls = pandas.read_csv(f, sep='\\t', low_memory=False)\n",
    "# Filter out non-rep samples\n",
    "idx = ~variant_calls['Extraction_id'].isin([1316882,1316875,1316877,1316874,1316920,1316919,1316921])\n",
    "variant_calls = variant_calls[idx]\n"
   ]
  },
  {
   "cell_type": "code",
   "execution_count": 6,
   "metadata": {
    "collapsed": false
   },
   "outputs": [
    {
     "data": {
      "text/plain": [
       "True"
      ]
     },
     "execution_count": 6,
     "metadata": {},
     "output_type": "execute_result"
    }
   ],
   "source": [
    "wnt_list <= ensembl_genes"
   ]
  },
  {
   "cell_type": "code",
   "execution_count": 7,
   "metadata": {
    "collapsed": false
   },
   "outputs": [],
   "source": [
    "df = pandas.concat([x['Covered'] / x['Length'] for x in covg_dfs], axis=1)\n",
    "max_dist = df.max(axis=1)"
   ]
  },
  {
   "cell_type": "code",
   "execution_count": 8,
   "metadata": {
    "collapsed": false
   },
   "outputs": [
    {
     "data": {
      "text/plain": [
       "<matplotlib.axes._subplots.AxesSubplot at 0x10a6c3cc0>"
      ]
     },
     "execution_count": 8,
     "metadata": {},
     "output_type": "execute_result"
    },
    {
     "data": {
      "image/png": "[encoded data removed]",
      "text/plain": [
       "<matplotlib.figure.Figure at 0x10a6c0518>"
      ]
     },
     "metadata": {},
     "output_type": "display_data"
    }
   ],
   "source": [
    "sns.distplot(max_dist)"
   ]
  },
  {
   "cell_type": "code",
   "execution_count": 9,
   "metadata": {
    "collapsed": false
   },
   "outputs": [],
   "source": [
    "idx = max_dist != 0\n",
    "# A gene is considered \"covered\" if there is non-zero coverage over that gene in at least one sample"
   ]
  },
  {
   "cell_type": "code",
   "execution_count": 10,
   "metadata": {
    "collapsed": false
   },
   "outputs": [
    {
     "data": {
      "text/plain": [
       "False"
      ]
     },
     "execution_count": 10,
     "metadata": {},
     "output_type": "execute_result"
    }
   ],
   "source": [
    "covered_genes = set(covg_dfs[0]['#Gene'][idx])\n",
    "covered_genes <= ensembl_genes"
   ]
  },
  {
   "cell_type": "code",
   "execution_count": 11,
   "metadata": {
    "collapsed": false
   },
   "outputs": [
    {
     "data": {
      "text/plain": [
       "30893"
      ]
     },
     "execution_count": 11,
     "metadata": {},
     "output_type": "execute_result"
    }
   ],
   "source": [
    "len(covered_genes)"
   ]
  },
  {
   "cell_type": "code",
   "execution_count": 12,
   "metadata": {
    "collapsed": false
   },
   "outputs": [
    {
     "data": {
      "text/plain": [
       "22517"
      ]
     },
     "execution_count": 12,
     "metadata": {},
     "output_type": "execute_result"
    }
   ],
   "source": [
    "covered_genes_with_symbol = covered_genes & ensembl_genes\n",
    "# This excludes \"covered genes\" that use ENS IDs, ORFs, or LOC ids as labels. This needs to be fixed.\n",
    "len(covered_genes_with_symbol)"
   ]
  },
  {
   "cell_type": "code",
   "execution_count": 13,
   "metadata": {
    "collapsed": false
   },
   "outputs": [
    {
     "data": {
      "text/plain": [
       "False"
      ]
     },
     "execution_count": 13,
     "metadata": {},
     "output_type": "execute_result"
    }
   ],
   "source": [
    "wnt_list.issubset(covered_genes_with_symbol)"
   ]
  },
  {
   "cell_type": "code",
   "execution_count": 14,
   "metadata": {
    "collapsed": false
   },
   "outputs": [
    {
     "data": {
      "text/plain": [
       "{'H2BFS'}"
      ]
     },
     "execution_count": 14,
     "metadata": {},
     "output_type": "execute_result"
    }
   ],
   "source": [
    "wnt_list - (wnt_list & covered_genes_with_symbol)"
   ]
  },
  {
   "cell_type": "code",
   "execution_count": 15,
   "metadata": {
    "collapsed": false
   },
   "outputs": [
    {
     "data": {
      "text/plain": [
       "294"
      ]
     },
     "execution_count": 15,
     "metadata": {},
     "output_type": "execute_result"
    }
   ],
   "source": [
    "covered_wnt_list = wnt_list & covered_genes_with_symbol\n",
    "len(covered_wnt_list)"
   ]
  },
  {
   "cell_type": "code",
   "execution_count": 16,
   "metadata": {
    "collapsed": false
   },
   "outputs": [],
   "source": [
    "covered_non_wnt_list = covered_genes_with_symbol - covered_wnt_list"
   ]
  },
  {
   "cell_type": "code",
   "execution_count": 17,
   "metadata": {
    "collapsed": false
   },
   "outputs": [],
   "source": [
    "genes_with_variants = set(variant_calls['gene_name'])"
   ]
  },
  {
   "cell_type": "code",
   "execution_count": 18,
   "metadata": {
    "collapsed": false
   },
   "outputs": [
    {
     "data": {
      "text/plain": [
       "(1.9676888967748787,\n",
       " 0.16069338635123342,\n",
       " 1,\n",
       " array([[    62.71181774,    231.28818226],\n",
       "        [  4740.28818226,  17482.71181774]]))"
      ]
     },
     "execution_count": 18,
     "metadata": {},
     "output_type": "execute_result"
    }
   ],
   "source": [
    "a = covered_wnt_list & genes_with_variants\n",
    "b = covered_wnt_list - a\n",
    "c = covered_non_wnt_list & genes_with_variants\n",
    "d = covered_non_wnt_list - c\n",
    "lengths = [len(x) for x in (a,b,c,d)]\n",
    "x = np.matrix('{0} {1}; {2} {3}'.format(*lengths))\n",
    "stats.chi2_contingency(x)"
   ]
  },
  {
   "cell_type": "code",
   "execution_count": 19,
   "metadata": {
    "collapsed": false
   },
   "outputs": [
    {
     "data": {
      "text/plain": [
       "matrix([[   73,   221],\n",
       "        [ 4730, 17493]])"
      ]
     },
     "execution_count": 19,
     "metadata": {},
     "output_type": "execute_result"
    }
   ],
   "source": [
    "x"
   ]
  },
  {
   "cell_type": "markdown",
   "metadata": {},
   "source": [
    "WNT genes do not appear to be enriched compared to overall number of observed genes across the cohort. (p-value = 0.17)"
   ]
  },
  {
   "cell_type": "code",
   "execution_count": 20,
   "metadata": {
    "collapsed": false
   },
   "outputs": [
    {
     "data": {
      "text/plain": [
       "(0.066536027246845694,\n",
       " 0.79644874995874015,\n",
       " 1,\n",
       " array([[   45.14834471,  2982.85165529],\n",
       "        [   72.85165529,  4813.14834471]]))"
      ]
     },
     "execution_count": 20,
     "metadata": {},
     "output_type": "execute_result"
    }
   ],
   "source": [
    "relapse_genes_idx = variant_calls['Tissue_type'] == 'relapse'\n",
    "primary_genes_idx = variant_calls['Tissue_type'] == 'primary'\n",
    "\n",
    "primary_genes = set(variant_calls[primary_genes_idx]['gene_name'])\n",
    "relapse_genes = set(variant_calls[relapse_genes_idx]['gene_name'])\n",
    "\n",
    "a = covered_wnt_list & primary_genes\n",
    "b = primary_genes - a\n",
    "c = covered_wnt_list & relapse_genes\n",
    "d = relapse_genes - c\n",
    "lengths = [len(x) for x in (a,b,c,d)]\n",
    "x = np.matrix('{0} {1}; {2} {3}'.format(*lengths))\n",
    "stats.chi2_contingency(x)"
   ]
  },
  {
   "cell_type": "code",
   "execution_count": 21,
   "metadata": {
    "collapsed": false
   },
   "outputs": [
    {
     "data": {
      "text/plain": [
       "matrix([[  47, 2981],\n",
       "        [  71, 4815]])"
      ]
     },
     "execution_count": 21,
     "metadata": {},
     "output_type": "execute_result"
    }
   ],
   "source": [
    "x"
   ]
  },
  {
   "cell_type": "markdown",
   "metadata": {},
   "source": [
    "WNT genes do not appear to be enriched in primary vs. relapse. (p = 1)"
   ]
  },
  {
   "cell_type": "code",
   "execution_count": 22,
   "metadata": {
    "collapsed": false
   },
   "outputs": [
    {
     "data": {
      "text/plain": [
       "(0.0073053427398991752,\n",
       " 0.93188671302547066,\n",
       " 1,\n",
       " array([[   47.91958495,  2968.08041505],\n",
       "        [   50.08041505,  3101.91958495]]))"
      ]
     },
     "execution_count": 22,
     "metadata": {},
     "output_type": "execute_result"
    }
   ],
   "source": [
    "paired_samples = ['SCLC{0}'.format(x) for x in (1,2,3,5,6,8,16,17,18)]\n",
    "idx = variant_calls['Common_name'].isin(paired_samples)\n",
    "paired_variant_calls = variant_calls[idx]\n",
    "\n",
    "relapse_genes_idx = paired_variant_calls['Tissue_type'] == 'relapse'\n",
    "primary_genes_idx = paired_variant_calls['Tissue_type'] == 'primary'\n",
    "\n",
    "primary_genes = set(paired_variant_calls[primary_genes_idx]['gene_name'])\n",
    "relapse_genes = set(paired_variant_calls[relapse_genes_idx]['gene_name'])\n",
    "\n",
    "a = covered_wnt_list & primary_genes\n",
    "b = primary_genes - a\n",
    "c = covered_wnt_list & relapse_genes\n",
    "d = relapse_genes - c\n",
    "lengths = [len(x) for x in (a,b,c,d)]\n",
    "x = np.matrix('{0} {1}; {2} {3}'.format(*lengths))\n",
    "stats.chi2_contingency(x)"
   ]
  },
  {
   "cell_type": "code",
   "execution_count": 23,
   "metadata": {
    "collapsed": false
   },
   "outputs": [
    {
     "data": {
      "text/plain": [
       "matrix([[  47, 2969],\n",
       "        [  51, 3101]])"
      ]
     },
     "execution_count": 23,
     "metadata": {},
     "output_type": "execute_result"
    }
   ],
   "source": [
    "x"
   ]
  },
  {
   "cell_type": "markdown",
   "metadata": {},
   "source": [
    "WNT genes do not appear to be enriched in primary vs. relapse when limited to paired samples (which is expected)."
   ]
  },
  {
   "cell_type": "code",
   "execution_count": 24,
   "metadata": {
    "collapsed": false
   },
   "outputs": [
    {
     "data": {
      "text/plain": [
       "294"
      ]
     },
     "execution_count": 24,
     "metadata": {},
     "output_type": "execute_result"
    }
   ],
   "source": [
    "# Profiled WNT genes\n",
    "len(covered_wnt_list)"
   ]
  },
  {
   "cell_type": "code",
   "execution_count": 25,
   "metadata": {
    "collapsed": false
   },
   "outputs": [
    {
     "data": {
      "text/plain": [
       "55"
      ]
     },
     "execution_count": 25,
     "metadata": {},
     "output_type": "execute_result"
    }
   ],
   "source": [
    "# WNT genes observed in paired cohort\n",
    "len(covered_wnt_list & (primary_genes | relapse_genes))"
   ]
  },
  {
   "cell_type": "code",
   "execution_count": 26,
   "metadata": {
    "collapsed": false
   },
   "outputs": [
    {
     "data": {
      "text/plain": [
       "8"
      ]
     },
     "execution_count": 26,
     "metadata": {},
     "output_type": "execute_result"
    }
   ],
   "source": [
    "# \"Relapse-specific\" WNT genes\n",
    "len(covered_wnt_list & (relapse_genes - primary_genes))"
   ]
  },
  {
   "cell_type": "code",
   "execution_count": 27,
   "metadata": {
    "collapsed": false
   },
   "outputs": [
    {
     "data": {
      "text/plain": [
       "{'APC', 'CHD8', 'DVL3', 'PLCB2', 'PRKG2', 'SMARCA4', 'WNT1', 'YWHAZ'}"
      ]
     },
     "execution_count": 27,
     "metadata": {},
     "output_type": "execute_result"
    }
   ],
   "source": [
    "covered_wnt_list & (relapse_genes - primary_genes)"
   ]
  },
  {
   "cell_type": "code",
   "execution_count": 28,
   "metadata": {
    "collapsed": true
   },
   "outputs": [],
   "source": [
    "def paired_count(gene):\n",
    "    idx = paired_variant_calls['gene_name'] == gene\n",
    "    a = paired_variant_calls[idx]\n",
    "    primary = len(a[a['Tissue_type'] == 'primary'])\n",
    "    relapse = len(a) - primary\n",
    "    return primary, relapse\n",
    "\n",
    "def total_count(gene):\n",
    "    idx = variant_calls['gene_name'] == gene\n",
    "    a = variant_calls[idx]\n",
    "    primary = len(a[a['Tissue_type'] == 'primary'])\n",
    "    relapse = len(a) - primary\n",
    "    return primary, relapse\n"
   ]
  },
  {
   "cell_type": "code",
   "execution_count": 29,
   "metadata": {
    "collapsed": false
   },
   "outputs": [],
   "source": [
    "with open('WNT_genes.csv', 'w') as f:\n",
    "    writer = csv.writer(f)\n",
    "    writer.writerow(['Gene Name', 'Paired Primary Tumors', 'Paired Relapse Tumors', 'Total Primary Tumors', 'Total Matched Tumors','Specificity'])\n",
    "    for gene in sorted(covered_wnt_list):\n",
    "        primary = gene in primary_genes\n",
    "        relapse = gene in relapse_genes\n",
    "        if primary and relapse:\n",
    "            out = 'Non-specific'\n",
    "        elif primary:\n",
    "            out = 'Primary-specific'\n",
    "        elif relapse:\n",
    "            out = 'Relapse-specific'\n",
    "        else:\n",
    "            out = 'No mutations'\n",
    "        primary, relapse = paired_count(gene)\n",
    "        total_primary, total_relapse = total_count(gene)\n",
    "        writer.writerow([gene, primary, relapse, total_primary, total_relapse, out])\n",
    "    "
   ]
  }
 ],
 "metadata": {
  "kernelspec": {
   "display_name": "Python 3",
   "language": "python",
   "name": "python3"
  },
  "language_info": {
   "codemirror_mode": {
    "name": "ipython",
    "version": 3
   },
   "file_extension": ".py",
   "mimetype": "text/x-python",
   "name": "python",
   "nbconvert_exporter": "python",
   "pygments_lexer": "ipython3",
   "version": "3.4.3"
  }
 },
 "nbformat": 4,
 "nbformat_minor": 0
}
